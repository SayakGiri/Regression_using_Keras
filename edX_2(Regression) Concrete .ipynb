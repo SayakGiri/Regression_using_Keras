{
 "cells": [
  {
   "cell_type": "markdown",
   "metadata": {},
   "source": [
    "# 8 input features, 2 hidden layers (5 nodes in each) and one output layer"
   ]
  },
  {
   "cell_type": "code",
   "execution_count": 123,
   "metadata": {},
   "outputs": [],
   "source": [
    "import keras\n",
    "from keras.models import Sequential\n",
    "from keras.layers import Dense\n",
    "import pandas as pd\n",
    "import numpy as np\n",
    "from sklearn.model_selection import train_test_split"
   ]
  },
  {
   "cell_type": "code",
   "execution_count": 124,
   "metadata": {},
   "outputs": [],
   "source": [
    "model = Sequential()"
   ]
  },
  {
   "cell_type": "code",
   "execution_count": 125,
   "metadata": {},
   "outputs": [],
   "source": [
    "data = pd.read_csv('E:\\Online Courses, Internship and more\\edX\\\\Concrete.csv')"
   ]
  },
  {
   "cell_type": "code",
   "execution_count": 126,
   "metadata": {},
   "outputs": [],
   "source": [
    "#n_cols = data.shape[1]\n",
    "#temp = n_cols-1"
   ]
  },
  {
   "cell_type": "code",
   "execution_count": 127,
   "metadata": {},
   "outputs": [],
   "source": [
    "model.add(Dense(5,activation='relu',input_shape=(8,))) #first hidden layer(5 nodes), 8 = number of input features "
   ]
  },
  {
   "cell_type": "code",
   "execution_count": 128,
   "metadata": {},
   "outputs": [],
   "source": [
    "model.add(Dense(5,activation='relu')) #second hidden layer(5 nodes)"
   ]
  },
  {
   "cell_type": "code",
   "execution_count": 129,
   "metadata": {},
   "outputs": [],
   "source": [
    "model.add(Dense(1)) #output layer"
   ]
  },
  {
   "cell_type": "code",
   "execution_count": 130,
   "metadata": {},
   "outputs": [],
   "source": [
    "#Separating independent and dependent variables\n",
    "x = data.drop(['csMPa'],axis=1)"
   ]
  },
  {
   "cell_type": "code",
   "execution_count": 131,
   "metadata": {},
   "outputs": [],
   "source": [
    "y = data['csMPa']"
   ]
  },
  {
   "cell_type": "code",
   "execution_count": 132,
   "metadata": {},
   "outputs": [],
   "source": [
    "x_train,x_test,y_train,y_test=train_test_split(x,y,test_size=0.2)"
   ]
  },
  {
   "cell_type": "code",
   "execution_count": 133,
   "metadata": {},
   "outputs": [],
   "source": [
    "model.compile(optimizer='adam',loss='mean_squared_error') # in adam optimizer, we don't have to specify the learning rate as in gradient descent"
   ]
  },
  {
   "cell_type": "code",
   "execution_count": 146,
   "metadata": {},
   "outputs": [
    {
     "name": "stdout",
     "output_type": "stream",
     "text": [
      "Epoch 1/1\n",
      "824/824 [==============================] - 0s 45us/step - loss: 970.0616\n"
     ]
    },
    {
     "data": {
      "text/plain": [
       "<keras.callbacks.callbacks.History at 0x15a8747a7c8>"
      ]
     },
     "execution_count": 146,
     "metadata": {},
     "output_type": "execute_result"
    }
   ],
   "source": [
    "model.fit(x_train,y_train)"
   ]
  },
  {
   "cell_type": "code",
   "execution_count": 26,
   "metadata": {},
   "outputs": [
    {
     "data": {
      "text/plain": [
       "(824, 8)"
      ]
     },
     "execution_count": 26,
     "metadata": {},
     "output_type": "execute_result"
    }
   ],
   "source": [
    "x_train.shape"
   ]
  },
  {
   "cell_type": "code",
   "execution_count": 27,
   "metadata": {},
   "outputs": [
    {
     "data": {
      "text/plain": [
       "(824,)"
      ]
     },
     "execution_count": 27,
     "metadata": {},
     "output_type": "execute_result"
    }
   ],
   "source": [
    "y_train.shape"
   ]
  },
  {
   "cell_type": "code",
   "execution_count": 28,
   "metadata": {},
   "outputs": [
    {
     "data": {
      "text/html": [
       "<div>\n",
       "<style scoped>\n",
       "    .dataframe tbody tr th:only-of-type {\n",
       "        vertical-align: middle;\n",
       "    }\n",
       "\n",
       "    .dataframe tbody tr th {\n",
       "        vertical-align: top;\n",
       "    }\n",
       "\n",
       "    .dataframe thead th {\n",
       "        text-align: right;\n",
       "    }\n",
       "</style>\n",
       "<table border=\"1\" class=\"dataframe\">\n",
       "  <thead>\n",
       "    <tr style=\"text-align: right;\">\n",
       "      <th></th>\n",
       "      <th>cement</th>\n",
       "      <th>slag</th>\n",
       "      <th>flyash</th>\n",
       "      <th>water</th>\n",
       "      <th>superplasticizer</th>\n",
       "      <th>coarseaggregate</th>\n",
       "      <th>fineaggregate</th>\n",
       "      <th>age</th>\n",
       "    </tr>\n",
       "  </thead>\n",
       "  <tbody>\n",
       "    <tr>\n",
       "      <th>536</th>\n",
       "      <td>393.0</td>\n",
       "      <td>0.0</td>\n",
       "      <td>0.0</td>\n",
       "      <td>192.0</td>\n",
       "      <td>0.0</td>\n",
       "      <td>940.6</td>\n",
       "      <td>785.6</td>\n",
       "      <td>28</td>\n",
       "    </tr>\n",
       "    <tr>\n",
       "      <th>812</th>\n",
       "      <td>310.0</td>\n",
       "      <td>0.0</td>\n",
       "      <td>0.0</td>\n",
       "      <td>192.0</td>\n",
       "      <td>0.0</td>\n",
       "      <td>970.0</td>\n",
       "      <td>850.0</td>\n",
       "      <td>90</td>\n",
       "    </tr>\n",
       "    <tr>\n",
       "      <th>19</th>\n",
       "      <td>475.0</td>\n",
       "      <td>0.0</td>\n",
       "      <td>0.0</td>\n",
       "      <td>228.0</td>\n",
       "      <td>0.0</td>\n",
       "      <td>932.0</td>\n",
       "      <td>594.0</td>\n",
       "      <td>180</td>\n",
       "    </tr>\n",
       "    <tr>\n",
       "      <th>542</th>\n",
       "      <td>255.0</td>\n",
       "      <td>0.0</td>\n",
       "      <td>0.0</td>\n",
       "      <td>192.0</td>\n",
       "      <td>0.0</td>\n",
       "      <td>889.8</td>\n",
       "      <td>945.0</td>\n",
       "      <td>90</td>\n",
       "    </tr>\n",
       "    <tr>\n",
       "      <th>325</th>\n",
       "      <td>252.3</td>\n",
       "      <td>0.0</td>\n",
       "      <td>98.8</td>\n",
       "      <td>146.3</td>\n",
       "      <td>14.2</td>\n",
       "      <td>987.8</td>\n",
       "      <td>889.0</td>\n",
       "      <td>14</td>\n",
       "    </tr>\n",
       "  </tbody>\n",
       "</table>\n",
       "</div>"
      ],
      "text/plain": [
       "     cement  slag  flyash  water  superplasticizer  coarseaggregate  \\\n",
       "536   393.0   0.0     0.0  192.0               0.0            940.6   \n",
       "812   310.0   0.0     0.0  192.0               0.0            970.0   \n",
       "19    475.0   0.0     0.0  228.0               0.0            932.0   \n",
       "542   255.0   0.0     0.0  192.0               0.0            889.8   \n",
       "325   252.3   0.0    98.8  146.3              14.2            987.8   \n",
       "\n",
       "     fineaggregate  age  \n",
       "536          785.6   28  \n",
       "812          850.0   90  \n",
       "19           594.0  180  \n",
       "542          945.0   90  \n",
       "325          889.0   14  "
      ]
     },
     "execution_count": 28,
     "metadata": {},
     "output_type": "execute_result"
    }
   ],
   "source": [
    "x_train.head()"
   ]
  },
  {
   "cell_type": "code",
   "execution_count": 75,
   "metadata": {},
   "outputs": [
    {
     "data": {
      "text/plain": [
       "954    13.46\n",
       "120    56.70\n",
       "449    35.85\n",
       "438    41.41\n",
       "48     26.26\n",
       "Name: csMPa, dtype: float64"
      ]
     },
     "execution_count": 75,
     "metadata": {},
     "output_type": "execute_result"
    }
   ],
   "source": [
    "y_train.head()"
   ]
  },
  {
   "cell_type": "code",
   "execution_count": 147,
   "metadata": {},
   "outputs": [],
   "source": [
    "predictions = model.predict(x_test)"
   ]
  },
  {
   "cell_type": "code",
   "execution_count": 148,
   "metadata": {},
   "outputs": [
    {
     "data": {
      "text/plain": [
       "array([[ 47.12589   ],\n",
       "       [ 32.89206   ],\n",
       "       [ 40.22632   ],\n",
       "       [ 25.97275   ],\n",
       "       [ 37.501354  ],\n",
       "       [ 38.19819   ],\n",
       "       [ 36.487095  ],\n",
       "       [ 35.069195  ],\n",
       "       [ 48.802814  ],\n",
       "       [ 42.360424  ],\n",
       "       [  2.9503284 ],\n",
       "       [ 30.458088  ],\n",
       "       [ 40.829353  ],\n",
       "       [ 38.607517  ],\n",
       "       [-18.331558  ],\n",
       "       [ 35.409664  ],\n",
       "       [ 31.109053  ],\n",
       "       [ 43.409996  ],\n",
       "       [ 27.863693  ],\n",
       "       [ 19.881334  ],\n",
       "       [ 51.464508  ],\n",
       "       [ 37.18753   ],\n",
       "       [ 16.72617   ],\n",
       "       [-31.269718  ],\n",
       "       [ 35.052544  ],\n",
       "       [ 38.603924  ],\n",
       "       [ 38.373768  ],\n",
       "       [ 40.72403   ],\n",
       "       [ 50.062042  ],\n",
       "       [ 41.10658   ],\n",
       "       [ 19.071129  ],\n",
       "       [-12.966956  ],\n",
       "       [ 28.270823  ],\n",
       "       [ 49.720097  ],\n",
       "       [  2.0414014 ],\n",
       "       [-15.282008  ],\n",
       "       [ 51.49995   ],\n",
       "       [ 22.243275  ],\n",
       "       [ 48.141235  ],\n",
       "       [ 39.32484   ],\n",
       "       [ 39.105785  ],\n",
       "       [ 36.26913   ],\n",
       "       [ 24.267658  ],\n",
       "       [ 42.55027   ],\n",
       "       [ 41.735874  ],\n",
       "       [ 39.68546   ],\n",
       "       [ 40.12627   ],\n",
       "       [ 43.9959    ],\n",
       "       [ 42.753777  ],\n",
       "       [ 50.333046  ],\n",
       "       [ 19.53718   ],\n",
       "       [ 32.17584   ],\n",
       "       [ 40.088562  ],\n",
       "       [ 48.75526   ],\n",
       "       [ 38.210293  ],\n",
       "       [ 22.60653   ],\n",
       "       [ 39.585514  ],\n",
       "       [ 34.942284  ],\n",
       "       [ 35.37715   ],\n",
       "       [-32.556385  ],\n",
       "       [ 31.79918   ],\n",
       "       [ 43.789703  ],\n",
       "       [ 53.313686  ],\n",
       "       [  6.280849  ],\n",
       "       [ 50.266895  ],\n",
       "       [ 32.888252  ],\n",
       "       [ 52.793095  ],\n",
       "       [ 16.418976  ],\n",
       "       [ 36.526928  ],\n",
       "       [ 37.8763    ],\n",
       "       [ 36.13074   ],\n",
       "       [ 13.324233  ],\n",
       "       [ 19.128487  ],\n",
       "       [ 33.696186  ],\n",
       "       [ 45.03509   ],\n",
       "       [ 53.0212    ],\n",
       "       [ 20.733791  ],\n",
       "       [ 49.569878  ],\n",
       "       [ 38.176647  ],\n",
       "       [ 34.988796  ],\n",
       "       [ 37.969856  ],\n",
       "       [ 42.667797  ],\n",
       "       [ 35.00621   ],\n",
       "       [ 32.845257  ],\n",
       "       [ 42.568325  ],\n",
       "       [ 48.11683   ],\n",
       "       [ 27.296469  ],\n",
       "       [ 43.836304  ],\n",
       "       [ 17.650326  ],\n",
       "       [ 27.089085  ],\n",
       "       [ 46.880783  ],\n",
       "       [ 21.621153  ],\n",
       "       [ 30.919926  ],\n",
       "       [ 36.845135  ],\n",
       "       [ 36.104633  ],\n",
       "       [ 43.165203  ],\n",
       "       [ 36.738953  ],\n",
       "       [ 15.821982  ],\n",
       "       [ -8.890849  ],\n",
       "       [  4.2263217 ],\n",
       "       [ 49.02408   ],\n",
       "       [ 36.222218  ],\n",
       "       [ 39.602757  ],\n",
       "       [ 24.744959  ],\n",
       "       [  8.829053  ],\n",
       "       [ 21.533438  ],\n",
       "       [ 47.890785  ],\n",
       "       [ 40.88588   ],\n",
       "       [ 47.003746  ],\n",
       "       [ 37.82946   ],\n",
       "       [ 36.38682   ],\n",
       "       [ 42.9115    ],\n",
       "       [ 37.863663  ],\n",
       "       [ 29.432198  ],\n",
       "       [ 36.38682   ],\n",
       "       [ 40.80562   ],\n",
       "       [ 16.661816  ],\n",
       "       [ 38.289238  ],\n",
       "       [-18.958447  ],\n",
       "       [  1.7313532 ],\n",
       "       [ 42.6537    ],\n",
       "       [ 30.012562  ],\n",
       "       [  9.871905  ],\n",
       "       [ 30.697187  ],\n",
       "       [ 26.003925  ],\n",
       "       [ 28.734644  ],\n",
       "       [ 37.51384   ],\n",
       "       [ 27.333706  ],\n",
       "       [ 24.672915  ],\n",
       "       [ 33.221226  ],\n",
       "       [ 31.355707  ],\n",
       "       [ 48.435776  ],\n",
       "       [-27.398033  ],\n",
       "       [ 50.96929   ],\n",
       "       [ 33.301395  ],\n",
       "       [ 32.803104  ],\n",
       "       [ 37.681408  ],\n",
       "       [ 39.522144  ],\n",
       "       [ 39.012043  ],\n",
       "       [ 52.72755   ],\n",
       "       [ 42.907402  ],\n",
       "       [ 44.610645  ],\n",
       "       [ 33.343235  ],\n",
       "       [ 27.394955  ],\n",
       "       [ 27.985691  ],\n",
       "       [ 15.970344  ],\n",
       "       [-23.837883  ],\n",
       "       [ 52.3063    ],\n",
       "       [ 31.8256    ],\n",
       "       [ 41.478077  ],\n",
       "       [ -7.673615  ],\n",
       "       [ 41.64976   ],\n",
       "       [ 40.810944  ],\n",
       "       [ 42.040726  ],\n",
       "       [ 19.324238  ],\n",
       "       [-43.93144   ],\n",
       "       [ 29.850388  ],\n",
       "       [ 54.19339   ],\n",
       "       [ 42.043343  ],\n",
       "       [  0.19805947],\n",
       "       [ 47.001446  ],\n",
       "       [ 25.8988    ],\n",
       "       [ 34.901077  ],\n",
       "       [ 29.465614  ],\n",
       "       [ 35.374023  ],\n",
       "       [ 44.69836   ],\n",
       "       [ 34.378468  ],\n",
       "       [ 41.66913   ],\n",
       "       [ 37.46434   ],\n",
       "       [ 35.384754  ],\n",
       "       [ 35.91139   ],\n",
       "       [ 30.506607  ],\n",
       "       [ 39.14194   ],\n",
       "       [ 56.575832  ],\n",
       "       [ 37.067062  ],\n",
       "       [ 47.39863   ],\n",
       "       [ 39.615887  ],\n",
       "       [ 34.59973   ],\n",
       "       [ 37.55892   ],\n",
       "       [ 42.896435  ],\n",
       "       [ 40.77847   ],\n",
       "       [ 33.564228  ],\n",
       "       [ 16.411125  ],\n",
       "       [ 31.444633  ],\n",
       "       [ 38.082718  ],\n",
       "       [ 45.94557   ],\n",
       "       [ 35.909813  ],\n",
       "       [ 21.486956  ],\n",
       "       [ 13.474004  ],\n",
       "       [ 42.016632  ],\n",
       "       [ 45.52282   ],\n",
       "       [ 31.34593   ],\n",
       "       [ 47.423843  ],\n",
       "       [-35.458637  ],\n",
       "       [ 28.97497   ],\n",
       "       [ 41.364376  ],\n",
       "       [ 43.827164  ],\n",
       "       [ 22.763458  ],\n",
       "       [-36.974293  ],\n",
       "       [ 38.41669   ],\n",
       "       [ 27.353884  ],\n",
       "       [ 26.093405  ],\n",
       "       [ 34.825752  ],\n",
       "       [  3.023952  ],\n",
       "       [  6.2548766 ],\n",
       "       [ 30.782143  ]], dtype=float32)"
      ]
     },
     "execution_count": 148,
     "metadata": {},
     "output_type": "execute_result"
    }
   ],
   "source": [
    "predictions"
   ]
  },
  {
   "cell_type": "code",
   "execution_count": 119,
   "metadata": {},
   "outputs": [
    {
     "data": {
      "text/plain": [
       "880    12.18\n",
       "567    11.96\n",
       "524    59.49\n",
       "222    28.63\n",
       "481    61.07\n",
       "       ...  \n",
       "1      61.89\n",
       "584    21.92\n",
       "648    29.89\n",
       "218    40.39\n",
       "664    19.35\n",
       "Name: csMPa, Length: 206, dtype: float64"
      ]
     },
     "execution_count": 119,
     "metadata": {},
     "output_type": "execute_result"
    }
   ],
   "source": [
    "y_test"
   ]
  },
  {
   "cell_type": "code",
   "execution_count": null,
   "metadata": {},
   "outputs": [],
   "source": []
  }
 ],
 "metadata": {
  "kernelspec": {
   "display_name": "Python 3",
   "language": "python",
   "name": "python3"
  },
  "language_info": {
   "codemirror_mode": {
    "name": "ipython",
    "version": 3
   },
   "file_extension": ".py",
   "mimetype": "text/x-python",
   "name": "python",
   "nbconvert_exporter": "python",
   "pygments_lexer": "ipython3",
   "version": "3.7.6"
  }
 },
 "nbformat": 4,
 "nbformat_minor": 4
}
